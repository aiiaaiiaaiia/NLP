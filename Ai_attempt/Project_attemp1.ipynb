{
 "cells": [
  {
   "cell_type": "markdown",
   "metadata": {},
   "source": [
    "# Preprocess\n",
    "\n",
    "#### Data Cleaning Steps\n",
    "* remove number with a sign : , ( ) - + \n",
    "* may deal with wrong spelling words\n",
    "* remove stopwords"
   ]
  },
  {
   "cell_type": "markdown",
   "metadata": {},
   "source": [
    "# Process\n",
    "#### Steps\n",
    "* Clustering \n",
    "* Topic modeling\n",
    "* Subcluster"
   ]
  },
  {
   "cell_type": "code",
   "execution_count": 44,
   "metadata": {},
   "outputs": [],
   "source": [
    "import pandas as pd\n",
    "from pandas import ExcelWriter\n",
    "from pandas import ExcelFile\n",
    "import pythainlp\n",
    "from pythainlp import word_tokenize, Tokenizer\n",
    "from pythainlp.corpus.common import thai_stopwords\n",
    "import re"
   ]
  },
  {
   "cell_type": "code",
   "execution_count": 45,
   "metadata": {},
   "outputs": [
    {
     "name": "stdout",
     "output_type": "stream",
     "text": [
      "Index(['ชื่อเรื่องไทย', 'ชื่อเรื่องอังกฤษ', 'คำสำคัญไทย', 'คำสำคัญอังกฤษ',\n",
      "       'บทคัดย่อ', 'Abstract'],\n",
      "      dtype='object')\n"
     ]
    }
   ],
   "source": [
    "data = pd.read_excel('Abstract.xlsx')\n",
    "print(data.columns)"
   ]
  },
  {
   "cell_type": "code",
   "execution_count": 3,
   "metadata": {},
   "outputs": [],
   "source": [
    "# abstract = ''\n",
    "# for i in range(0, 10):\n",
    "#   abstract += data.at[i,'บทคัดย่อ']\n",
    "# print(abstract)\n",
    "\n",
    "abstract = []\n",
    "for i in range(0,9):\n",
    "    sub = [data.at[i,'บทคัดย่อ']]\n",
    "    abstract.append(sub)"
   ]
  },
  {
   "cell_type": "code",
   "execution_count": 12,
   "metadata": {
    "scrolled": false
   },
   "outputs": [],
   "source": [
    "# print(abstract)"
   ]
  },
  {
   "cell_type": "code",
   "execution_count": 22,
   "metadata": {},
   "outputs": [],
   "source": [
    "def remove(text):\n",
    "    text = text.replace(\"-\",'')\n",
    "    return re.sub(r\"[\\n|\\t|\\d|%|(|)|,|.|/]{1,}\", \"\", text)\n",
    "\n",
    "rm_abstract = []\n",
    "for i in range(0,9):\n",
    "    sub = [remove(abstract[i][0])]\n",
    "    rm_abstract.append(sub)"
   ]
  },
  {
   "cell_type": "code",
   "execution_count": 23,
   "metadata": {},
   "outputs": [],
   "source": [
    "# print(rm_abstract)"
   ]
  },
  {
   "cell_type": "code",
   "execution_count": 24,
   "metadata": {},
   "outputs": [],
   "source": [
    "token_abstract = []\n",
    "for i in range(0,9):\n",
    "    sub = word_tokenize(rm_abstract[i][0], engine=\"deepcut\", keep_whitespace=False)\n",
    "    token_abstract.append(sub)"
   ]
  },
  {
   "cell_type": "code",
   "execution_count": 53,
   "metadata": {},
   "outputs": [],
   "source": [
    "# print(token_abstract)"
   ]
  },
  {
   "cell_type": "code",
   "execution_count": 50,
   "metadata": {},
   "outputs": [],
   "source": [
    "sw_abstract = []\n",
    "sub = []\n",
    "for i in range(0,9):\n",
    "    for j in range(0,len(token_abstract[i])):\n",
    "        word = token_abstract[i][j]\n",
    "        if word not in thai_stopwords():\n",
    "            sub.append(word)\n",
    "    sw_abstract.append(sub)\n",
    "    sub = []"
   ]
  },
  {
   "cell_type": "code",
   "execution_count": 52,
   "metadata": {},
   "outputs": [],
   "source": [
    "# print(sw_abstract)"
   ]
  },
  {
   "cell_type": "code",
   "execution_count": null,
   "metadata": {},
   "outputs": [],
   "source": []
  }
 ],
 "metadata": {
  "kernelspec": {
   "display_name": "Python 3",
   "language": "python",
   "name": "python3"
  },
  "language_info": {
   "codemirror_mode": {
    "name": "ipython",
    "version": 3
   },
   "file_extension": ".py",
   "mimetype": "text/x-python",
   "name": "python",
   "nbconvert_exporter": "python",
   "pygments_lexer": "ipython3",
   "version": "3.6.8"
  }
 },
 "nbformat": 4,
 "nbformat_minor": 2
}
