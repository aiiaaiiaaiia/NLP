{
 "cells": [
  {
   "cell_type": "markdown",
   "metadata": {},
   "source": [
    "# Preprocess\n",
    "\n",
    "#### Data Cleaning Steps\n",
    "* remove number with a sign : , ( ) - + \n",
    "* may deal with wrong spelling words\n",
    "* remove stopwords"
   ]
  },
  {
   "cell_type": "markdown",
   "metadata": {},
   "source": [
    "# Process\n",
    "#### Steps\n",
    "* Clustering \n",
    "* Topic modeling\n",
    "* Subcluster"
   ]
  },
  {
   "cell_type": "code",
   "execution_count": 14,
   "metadata": {},
   "outputs": [],
   "source": [
    "import pandas as pd\n",
    "from pandas import ExcelWriter\n",
    "from pandas import ExcelFile\n",
    "import pythainlp\n",
    "from pythainlp import word_tokenize, Tokenizer\n",
    "from pythainlp.corpus.common import thai_stopwords\n",
    "from pythainlp.ulmfit import document_vector\n",
    "import re"
   ]
  },
  {
   "cell_type": "code",
   "execution_count": 15,
   "metadata": {},
   "outputs": [
    {
     "name": "stdout",
     "output_type": "stream",
     "text": [
      "Index(['ชื่อเรื่องไทย', 'ชื่อเรื่องอังกฤษ', 'คำสำคัญไทย', 'คำสำคัญอังกฤษ',\n",
      "       'บทคัดย่อ', 'Abstract'],\n",
      "      dtype='object')\n"
     ]
    }
   ],
   "source": [
    "data = pd.read_excel('Abstract.xlsx')\n",
    "print(data.columns)"
   ]
  },
  {
   "cell_type": "code",
   "execution_count": 16,
   "metadata": {},
   "outputs": [
    {
     "name": "stdout",
     "output_type": "stream",
     "text": [
      "[['การเพาะเลี้ยงอับละอองเรณูเพื่อสร้างประชากรในการจัดทำแผนที่พันธุกรรมและการสร้างสายพันธุ์แท้ '], ['การพัฒนาเทคโนโลยีการจัดการศัตรูข้าวแบบผสมผสานในนาชลประทานภาคใต้ '], ['การตรวจสอบความหลากหลายของพันธุ์ข้าวด้วยเครื่องหมายโมเลกุล '], ['การศึกษาผลกระทบจากการทำลายของศัตรูข้าวหลายชนิดในสภาพภูมิอากาศและการเขตกรรมที่ต่างกันในนิเวศนาชลประทาน '], ['ผลของการเปลี่ยนแปลงสภาพภูมิอากาศต่อชนิดของเชื้อสาเหตุและการระบาดของโรคข้าวในนาชลประทานที่ปลูกต่อเนื่อง '], ['การจัดการเทคโนโลยีการผลิตที่เหมาะสมเพื่อการลดต้นทุนการผลิตข้าวในเขตนาชลประทาน '], ['การวิจัยและพัฒนาเทคโนโลยีการผลิตพันธุ์ข้าวสาลีอินทรีย์ '], ['การวิจัยและพัฒนาการป้องกันกำจัดข้าววัชพืชในที่ราบลุ่มภาคกลางและภาคเหนือตอนล่าง '], ['การพัฒนาการผลิตข้าวไร่ในพื้นที่สวนยางพาราและปาล์มน้ำมันภาคใต้ฝั่งตะวันตก ']]\n"
     ]
    }
   ],
   "source": [
    "titles = []\n",
    "for i in range(0,9):\n",
    "    sub = [data.at[i,'ชื่อเรื่องไทย']]\n",
    "    titles.append(sub)\n",
    "print(titles)"
   ]
  },
  {
   "cell_type": "code",
   "execution_count": 17,
   "metadata": {},
   "outputs": [],
   "source": [
    "# abstract = ''\n",
    "# for i in range(0, 10):\n",
    "#   abstract += data.at[i,'บทคัดย่อ']\n",
    "# print(abstract)\n",
    "\n",
    "abstract = []\n",
    "for i in range(0,9):\n",
    "    sub = [data.at[i,'บทคัดย่อ']]\n",
    "    abstract.append(sub)"
   ]
  },
  {
   "cell_type": "code",
   "execution_count": 18,
   "metadata": {
    "scrolled": false
   },
   "outputs": [],
   "source": [
    "# print(abstract)"
   ]
  },
  {
   "cell_type": "code",
   "execution_count": 19,
   "metadata": {},
   "outputs": [],
   "source": [
    "def remove(text):\n",
    "    text = text.replace(\"-\",'')\n",
    "    return re.sub(r\"[\\n|\\t|\\d|%|(|)|,|.|/|ฯ]{1,}\", \"\", text)"
   ]
  },
  {
   "cell_type": "code",
   "execution_count": 21,
   "metadata": {},
   "outputs": [],
   "source": [
    "def \n",
    "token_abstract = []\n",
    "for i in range(0,len(abstract)):\n",
    "    sub = word_tokenize(rm_abstract[i][0], engine=\"deepcut\", keep_whitespace=False)\n",
    "    token_abstract.append(sub)"
   ]
  },
  {
   "cell_type": "code",
   "execution_count": 24,
   "metadata": {},
   "outputs": [],
   "source": [
    "from sklearn.feature_extraction.text import TfidfVectorizer\n",
    "tfidf_vectorizer = TfidfVectorizer(preprocessor=remove, stop_words=thai_stopwords())"
   ]
  },
  {
   "cell_type": "code",
   "execution_count": 25,
   "metadata": {},
   "outputs": [
    {
     "ename": "NameError",
     "evalue": "name 'all_text' is not defined",
     "output_type": "error",
     "traceback": [
      "\u001b[0;31m---------------------------------------------------------------------------\u001b[0m",
      "\u001b[0;31mNameError\u001b[0m                                 Traceback (most recent call last)",
      "\u001b[0;32m<ipython-input-25-a889b5863e37>\u001b[0m in \u001b[0;36m<module>\u001b[0;34m\u001b[0m\n\u001b[0;32m----> 1\u001b[0;31m \u001b[0mtfidf\u001b[0m \u001b[0;34m=\u001b[0m \u001b[0mtfidf_vectorizer\u001b[0m\u001b[0;34m.\u001b[0m\u001b[0mfit_transform\u001b[0m\u001b[0;34m(\u001b[0m\u001b[0mall_text\u001b[0m\u001b[0;34m)\u001b[0m\u001b[0;34m\u001b[0m\u001b[0;34m\u001b[0m\u001b[0m\n\u001b[0m",
      "\u001b[0;31mNameError\u001b[0m: name 'all_text' is not defined"
     ]
    }
   ],
   "source": [
    "tfidf = tfidf_vectorizer.fit_transform(all_text)"
   ]
  },
  {
   "cell_type": "code",
   "execution_count": null,
   "metadata": {},
   "outputs": [],
   "source": []
  }
 ],
 "metadata": {
  "kernelspec": {
   "display_name": "Python 3",
   "language": "python",
   "name": "python3"
  },
  "language_info": {
   "codemirror_mode": {
    "name": "ipython",
    "version": 3
   },
   "file_extension": ".py",
   "mimetype": "text/x-python",
   "name": "python",
   "nbconvert_exporter": "python",
   "pygments_lexer": "ipython3",
   "version": "3.6.8"
  }
 },
 "nbformat": 4,
 "nbformat_minor": 2
}
