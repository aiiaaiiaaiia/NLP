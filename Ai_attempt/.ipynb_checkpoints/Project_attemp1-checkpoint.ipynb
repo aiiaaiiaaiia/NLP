{
 "cells": [
  {
   "cell_type": "markdown",
   "metadata": {},
   "source": [
    "# Preprocess\n",
    "\n",
    "#### Data Cleaning Steps\n",
    "* remove number with a sign : , ( ) - + \n",
    "* may deal with wrong spelling words\n",
    "* remove stopwords"
   ]
  },
  {
   "cell_type": "markdown",
   "metadata": {},
   "source": [
    "# Process\n",
    "#### Steps\n",
    "* Clustering \n",
    "* Topic modeling\n",
    "* Subcluster"
   ]
  },
  {
   "cell_type": "code",
   "execution_count": 16,
   "metadata": {},
   "outputs": [],
   "source": [
    "import pandas as pd\n",
    "from pandas import ExcelWriter\n",
    "from pandas import ExcelFile\n",
    "import pythainlp\n",
    "from pythainlp import word_tokenize, Tokenizer\n",
    "from pythainlp.corpus.common import thai_stopwords\n",
    "from pythainlp.ulmfit import document_vector\n",
    "import re"
   ]
  },
  {
   "cell_type": "code",
   "execution_count": 2,
   "metadata": {},
   "outputs": [
    {
     "name": "stdout",
     "output_type": "stream",
     "text": [
      "Index(['ชื่อเรื่องไทย', 'ชื่อเรื่องอังกฤษ', 'คำสำคัญไทย', 'คำสำคัญอังกฤษ',\n",
      "       'บทคัดย่อ', 'Abstract'],\n",
      "      dtype='object')\n"
     ]
    }
   ],
   "source": [
    "data = pd.read_excel('Abstract.xlsx')\n",
    "print(data.columns)"
   ]
  },
  {
   "cell_type": "code",
   "execution_count": 3,
   "metadata": {},
   "outputs": [],
   "source": [
    "# abstract = ''\n",
    "# for i in range(0, 10):\n",
    "#   abstract += data.at[i,'บทคัดย่อ']\n",
    "# print(abstract)\n",
    "\n",
    "abstract = []\n",
    "for i in range(0,9):\n",
    "    sub = [data.at[i,'บทคัดย่อ']]\n",
    "    abstract.append(sub)"
   ]
  },
  {
   "cell_type": "code",
   "execution_count": 4,
   "metadata": {
    "scrolled": false
   },
   "outputs": [],
   "source": [
    "# print(abstract)"
   ]
  },
  {
   "cell_type": "code",
   "execution_count": 19,
   "metadata": {},
   "outputs": [],
   "source": [
    "def remove(text):\n",
    "    text = text.replace(\"-\",'')\n",
    "    return re.sub(r\"[\\n|\\t|\\d|%|(|)|,|.|/]{1,}\", \"\", text)\n",
    "\n",
    "rm_abstract = []\n",
    "for i in range(0,len(abstract)):\n",
    "    sub = [remove(abstract[i][0])]\n",
    "    rm_abstract.append(sub)"
   ]
  },
  {
   "cell_type": "code",
   "execution_count": 21,
   "metadata": {},
   "outputs": [],
   "source": [
    "# print(rm_abstract)"
   ]
  },
  {
   "cell_type": "code",
   "execution_count": 22,
   "metadata": {},
   "outputs": [],
   "source": [
    "token_abstract = []\n",
    "for i in range(0,len(abstract)):\n",
    "    sub = word_tokenize(rm_abstract[i][0], engine=\"deepcut\", keep_whitespace=False)\n",
    "    token_abstract.append(sub)"
   ]
  },
  {
   "cell_type": "code",
   "execution_count": 24,
   "metadata": {},
   "outputs": [],
   "source": [
    "# print(token_abstract)"
   ]
  },
  {
   "cell_type": "code",
   "execution_count": 25,
   "metadata": {},
   "outputs": [],
   "source": [
    "sw_abstract = []\n",
    "sub = []\n",
    "for i in range(0,len(abstract)):\n",
    "    for j in range(0,len(token_abstract[i])):\n",
    "        word = token_abstract[i][j]\n",
    "        if word not in thai_stopwords():\n",
    "            sub.append(word)\n",
    "    sw_abstract.append(sub)\n",
    "    sub = []"
   ]
  },
  {
   "cell_type": "code",
   "execution_count": 27,
   "metadata": {},
   "outputs": [],
   "source": [
    "# print(sw_abstract)"
   ]
  },
  {
   "cell_type": "markdown",
   "metadata": {},
   "source": [
    "## Numbericalization"
   ]
  },
  {
   "cell_type": "code",
   "execution_count": 28,
   "metadata": {},
   "outputs": [
    {
     "name": "stdout",
     "output_type": "stream",
     "text": [
      "[[ 0.074935 -0.06831   0.09751  -0.024656 ... -0.44411  -0.084777 -0.015924 -0.042845]]\n"
     ]
    }
   ],
   "source": [
    "from pythainlp.word_vector import sentence_vectorizer\n",
    "print(sentence_vectorizer(sw_abstract[0][0], use_mean=True))"
   ]
  },
  {
   "cell_type": "markdown",
   "metadata": {},
   "source": [
    "use Thai2fit cr. https://www.thainlp.org/pythainlp/tutorials/notebooks/word2vec_examples.html"
   ]
  },
  {
   "cell_type": "code",
   "execution_count": 30,
   "metadata": {},
   "outputs": [],
   "source": [
    "%reload_ext autoreload\n",
    "%autoreload 2\n",
    "%matplotlib inline\n",
    "\n",
    "from gensim.models import KeyedVectors\n",
    "import numpy as np\n",
    "from sklearn.manifold import TSNE\n",
    "import matplotlib.pyplot as plt\n",
    "import matplotlib.font_manager as fm\n",
    "\n",
    "import dill as pickle"
   ]
  },
  {
   "cell_type": "code",
   "execution_count": null,
   "metadata": {},
   "outputs": [],
   "source": []
  }
 ],
 "metadata": {
  "kernelspec": {
   "display_name": "Python 3",
   "language": "python",
   "name": "python3"
  },
  "language_info": {
   "codemirror_mode": {
    "name": "ipython",
    "version": 3
   },
   "file_extension": ".py",
   "mimetype": "text/x-python",
   "name": "python",
   "nbconvert_exporter": "python",
   "pygments_lexer": "ipython3",
   "version": "3.6.8"
  }
 },
 "nbformat": 4,
 "nbformat_minor": 2
}
