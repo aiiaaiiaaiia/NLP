{
 "cells": [
  {
   "cell_type": "markdown",
   "metadata": {},
   "source": [
    "# Preprocess\n",
    "\n",
    "#### Data Cleaning Steps\n",
    "* remove number with a sign : , ( ) - + \n",
    "* may deal with wrong spelling words\n",
    "* remove stopwords"
   ]
  },
  {
   "cell_type": "markdown",
   "metadata": {},
   "source": [
    "# Process\n",
    "#### Steps\n",
    "* Clustering \n",
    "* Topic modeling\n",
    "* Subcluster"
   ]
  },
  {
   "cell_type": "code",
   "execution_count": 40,
   "metadata": {},
   "outputs": [],
   "source": [
    "import numpy as np\n",
    "import pandas as pd\n",
    "from pandas import ExcelWriter\n",
    "from pandas import ExcelFile\n",
    "import pythainlp\n",
    "from pythainlp import word_tokenize, Tokenizer\n",
    "from pythainlp.corpus.common import thai_stopwords\n",
    "from pythainlp.ulmfit import document_vector\n",
    "import re"
   ]
  },
  {
   "cell_type": "code",
   "execution_count": 41,
   "metadata": {},
   "outputs": [],
   "source": [
    "import matplotlib.pyplot as plt\n",
    "import matplotlib.cm as cm\n",
    "\n",
    "from sklearn.cluster import MiniBatchKMeans\n",
    "from sklearn.feature_extraction.text import TfidfVectorizer\n",
    "from sklearn.decomposition import PCA\n",
    "from sklearn.manifold import TSNE"
   ]
  },
  {
   "cell_type": "code",
   "execution_count": 42,
   "metadata": {},
   "outputs": [
    {
     "name": "stdout",
     "output_type": "stream",
     "text": [
      "Index(['ชื่อเรื่องไทย', 'ชื่อเรื่องอังกฤษ', 'คำสำคัญไทย', 'คำสำคัญอังกฤษ',\n",
      "       'บทคัดย่อ', 'Abstract'],\n",
      "      dtype='object')\n"
     ]
    }
   ],
   "source": [
    "data = pd.read_excel('Abstract.xlsx')\n",
    "print(data.columns)"
   ]
  },
  {
   "cell_type": "code",
   "execution_count": 43,
   "metadata": {},
   "outputs": [
    {
     "name": "stdout",
     "output_type": "stream",
     "text": [
      "['การเพาะเลี้ยงอับละอองเรณูเพื่อสร้างประชากรในการจัดทำแผนที่พันธุกรรมและการสร้างสายพันธุ์แท้ ', 'การพัฒนาเทคโนโลยีการจัดการศัตรูข้าวแบบผสมผสานในนาชลประทานภาคใต้ ', 'การตรวจสอบความหลากหลายของพันธุ์ข้าวด้วยเครื่องหมายโมเลกุล ', 'การศึกษาผลกระทบจากการทำลายของศัตรูข้าวหลายชนิดในสภาพภูมิอากาศและการเขตกรรมที่ต่างกันในนิเวศนาชลประทาน ', 'ผลของการเปลี่ยนแปลงสภาพภูมิอากาศต่อชนิดของเชื้อสาเหตุและการระบาดของโรคข้าวในนาชลประทานที่ปลูกต่อเนื่อง ', 'การจัดการเทคโนโลยีการผลิตที่เหมาะสมเพื่อการลดต้นทุนการผลิตข้าวในเขตนาชลประทาน ', 'การวิจัยและพัฒนาเทคโนโลยีการผลิตพันธุ์ข้าวสาลีอินทรีย์ ', 'การวิจัยและพัฒนาการป้องกันกำจัดข้าววัชพืชในที่ราบลุ่มภาคกลางและภาคเหนือตอนล่าง ', 'การพัฒนาการผลิตข้าวไร่ในพื้นที่สวนยางพาราและปาล์มน้ำมันภาคใต้ฝั่งตะวันตก ']\n"
     ]
    }
   ],
   "source": [
    "titles = []\n",
    "for i in range(0,9):\n",
    "    sub = data.at[i,'ชื่อเรื่องไทย']\n",
    "    titles.append(sub)\n",
    "print(titles)"
   ]
  },
  {
   "cell_type": "code",
   "execution_count": 50,
   "metadata": {},
   "outputs": [],
   "source": [
    "abstract = []\n",
    "for i in range(0,29):\n",
    "    sub = data.at[i,'บทคัดย่อ']\n",
    "    abstract.append(sub)\n",
    "# print(abstract)"
   ]
  },
  {
   "cell_type": "code",
   "execution_count": 51,
   "metadata": {},
   "outputs": [],
   "source": [
    "def remove(text):\n",
    "    text = text.replace(\"-\",'')\n",
    "    return re.sub(r\"[\\n|\\t|\\d|%|(|)|,|.|/|ฯ]{1,}\", \"\", text)\n",
    "\n",
    "rm_abstract = []\n",
    "for i in range(0,len(abstract)):\n",
    "    sub = remove(abstract[i])\n",
    "    rm_abstract.append(sub)\n",
    "# print(rm_abstract)"
   ]
  },
  {
   "cell_type": "code",
   "execution_count": 52,
   "metadata": {},
   "outputs": [],
   "source": [
    "token_abstract = []\n",
    "for i in range(0,len(abstract)):\n",
    "    sub = word_tokenize(rm_abstract[i], engine=\"deepcut\", keep_whitespace=False)\n",
    "#     word = 0\n",
    "#     while word <= len(sub):\n",
    "#         if sub[word] in thai_stopwords():\n",
    "#             del sub[word]\n",
    "    token_abstract.append(sub)\n",
    "# print(token_abstract)"
   ]
  },
  {
   "cell_type": "code",
   "execution_count": 53,
   "metadata": {},
   "outputs": [],
   "source": [
    "sw_abstract = []\n",
    "rm_sw = ''\n",
    "for doc in token_abstract:\n",
    "    for word in doc:\n",
    "        if word not in thai_stopwords():\n",
    "            rm_sw += word+' '\n",
    "    sw_abstract.append(rm_sw)\n",
    "    rm_sw = ''\n",
    "# print(sw_abstract)"
   ]
  },
  {
   "cell_type": "markdown",
   "metadata": {},
   "source": [
    "### Extracting Keywords"
   ]
  },
  {
   "cell_type": "markdown",
   "metadata": {},
   "source": [
    "reference form : https://www.kaggle.com/jbencina/clustering-documents-with-tfidf-and-kmeans"
   ]
  },
  {
   "cell_type": "code",
   "execution_count": 54,
   "metadata": {},
   "outputs": [],
   "source": [
    "tfidf = TfidfVectorizer(\n",
    "    min_df = 5,\n",
    "    max_df = 0.95,\n",
    "    max_features = 8000\n",
    ")\n",
    "tfidf.fit(sw_abstract)\n",
    "text = tfidf.transform(sw_abstract)"
   ]
  },
  {
   "cell_type": "markdown",
   "metadata": {},
   "source": [
    "### Finding Optimal Clusters"
   ]
  },
  {
   "cell_type": "code",
   "execution_count": 57,
   "metadata": {},
   "outputs": [
    {
     "name": "stdout",
     "output_type": "stream",
     "text": [
      "Fit 2 clusters\n",
      "Fit 4 clusters\n",
      "Fit 6 clusters\n",
      "Fit 8 clusters\n",
      "Fit 10 clusters\n",
      "Fit 12 clusters\n",
      "Fit 14 clusters\n",
      "Fit 16 clusters\n",
      "Fit 18 clusters\n",
      "Fit 20 clusters\n"
     ]
    },
    {
     "data": {
      "image/png": "[encoded data removed]",
      "text/plain": [
       "<Figure size 432x288 with 1 Axes>"
      ]
     },
     "metadata": {
      "needs_background": "light"
     },
     "output_type": "display_data"
    }
   ],
   "source": [
    "def find_optimal_clusters(data, max_k):\n",
    "    iters = range(2, max_k+1, 2)\n",
    "    \n",
    "    sse = []\n",
    "    for k in iters:\n",
    "        sse.append(MiniBatchKMeans(n_clusters=k, init_size=1024, batch_size=2048, random_state=20).fit(data).inertia_)\n",
    "        print('Fit {} clusters'.format(k))\n",
    "        \n",
    "    f, ax = plt.subplots(1, 1)\n",
    "    ax.plot(iters, sse, marker='o')\n",
    "    ax.set_xlabel('Cluster Centers')\n",
    "    ax.set_xticks(iters)\n",
    "    ax.set_xticklabels(iters)\n",
    "    ax.set_ylabel('SSE')\n",
    "    ax.set_title('SSE by Cluster Center Plot')\n",
    "    \n",
    "find_optimal_clusters(text, 20)"
   ]
  },
  {
   "cell_type": "code",
   "execution_count": 59,
   "metadata": {},
   "outputs": [],
   "source": [
    "clusters = MiniBatchKMeans(n_clusters=12, init_size=1024, batch_size=2048, random_state=20).fit_predict(text)"
   ]
  },
  {
   "cell_type": "markdown",
   "metadata": {},
   "source": [
    "### Plotting Clusters"
   ]
  },
  {
   "cell_type": "code",
   "execution_count": 60,
   "metadata": {},
   "outputs": [
    {
     "data": {
      "image/png": "[encoded data removed]",
      "text/plain": [
       "<Figure size 1008x432 with 2 Axes>"
      ]
     },
     "metadata": {
      "needs_background": "light"
     },
     "output_type": "display_data"
    }
   ],
   "source": [
    "def plot_tsne_pca(data, labels):\n",
    "    max_label = max(labels)\n",
    "    max_items = np.random.choice(range(data.shape[0]), size=3000, replace=True)\n",
    "    \n",
    "    pca = PCA(n_components=2).fit_transform(data[max_items,:].todense())\n",
    "    tsne = TSNE().fit_transform(PCA(n_components=5).fit_transform(data[max_items,:].todense()))\n",
    "    \n",
    "    \n",
    "    idx = np.random.choice(range(pca.shape[0]), size=300, replace=False)\n",
    "    label_subset = labels[max_items]\n",
    "    label_subset = [cm.hsv(i/max_label) for i in label_subset[idx]]\n",
    "    \n",
    "    f, ax = plt.subplots(1, 2, figsize=(14, 6))\n",
    "    \n",
    "    ax[0].scatter(pca[idx, 0], pca[idx, 1], c=label_subset)\n",
    "    ax[0].set_title('PCA Cluster Plot')\n",
    "    \n",
    "    ax[1].scatter(tsne[idx, 0], tsne[idx, 1], c=label_subset)\n",
    "    ax[1].set_title('TSNE Cluster Plot')\n",
    "    \n",
    "plot_tsne_pca(text, clusters)"
   ]
  },
  {
   "cell_type": "markdown",
   "metadata": {},
   "source": [
    "### Top Keywords"
   ]
  },
  {
   "cell_type": "code",
   "execution_count": 61,
   "metadata": {},
   "outputs": [
    {
     "name": "stdout",
     "output_type": "stream",
     "text": [
      "\n",
      "Cluster 0\n",
      "เก,สาย,อย,ผล,เกษตรกร,ดำ,ยว,นา,เมล,นธ\n",
      "\n",
      "Cluster 1\n",
      "แปลง,กกไร,ไนโตรเจน,นธ,ใบ,อากาศ,เส,ตรา,โรค,ไหม\n",
      "\n",
      "Cluster 2\n",
      "นต,เคม,เช,ทธ,ทดลอง,ภาพ,ประส,กำจ,สาร,ชพ\n",
      "\n",
      "Cluster 3\n",
      "ทดลอง,แตกต,ดอก,ใบ,นธ,แสง,กกไร,ตรา,ไนโตรเจน,ใส\n",
      "\n",
      "Cluster 4\n",
      "แปลง,ลด,ระบบ,งหว,อง,นท,ตร,ใบ,เกษตรกร,ผล\n",
      "\n",
      "Cluster 5\n",
      "กกไร,ไร,ไนโตรเจน,ผล,โลกร,ใส,าง,สร,นธ,สาย\n",
      "\n",
      "Cluster 6\n",
      "ปร,อน,กษณะ,เกษตรกร,ทดลอง,ดอก,ไร,ปล,ตรวจสอบ,นธ\n",
      "\n",
      "Cluster 7\n",
      "ยง,ประโยชน,จำนวน,าง,ไหม,โรค,แบ,วอย,ตรวจสอบ,เช\n",
      "\n",
      "Cluster 8\n",
      "โรค,กษา,ระบาด,อเน,เช,ตร,สภาพ,ชน,อากาศ,นาชลประทาน\n",
      "\n",
      "Cluster 9\n",
      "เปร,ทดลอง,ดำเน,ดำ,กรรมว,กกไร,ระบบ,ปล,าน,หว\n",
      "\n",
      "Cluster 10\n",
      "ณหภ,เก,สาร,ปร,มาณ,บร,กษา,อน,อง,กล\n",
      "\n",
      "Cluster 11\n",
      "อากาศ,เส,นาปร,อม,ฤด,อน,ปล,หม,รวง,ณหภ\n"
     ]
    }
   ],
   "source": [
    "def get_top_keywords(data, clusters, labels, n_terms):\n",
    "    df = pd.DataFrame(data.todense()).groupby(clusters).mean()\n",
    "    \n",
    "    for i,r in df.iterrows():\n",
    "        print('\\nCluster {}'.format(i))\n",
    "        print(','.join([labels[t] for t in np.argsort(r)[-n_terms:]]))\n",
    "            \n",
    "get_top_keywords(text, clusters, tfidf.get_feature_names(), 10)"
   ]
  },
  {
   "cell_type": "code",
   "execution_count": null,
   "metadata": {},
   "outputs": [],
   "source": []
  }
 ],
 "metadata": {
  "kernelspec": {
   "display_name": "Python 3",
   "language": "python",
   "name": "python3"
  },
  "language_info": {
   "codemirror_mode": {
    "name": "ipython",
    "version": 3
   },
   "file_extension": ".py",
   "mimetype": "text/x-python",
   "name": "python",
   "nbconvert_exporter": "python",
   "pygments_lexer": "ipython3",
   "version": "3.6.9"
  }
 },
 "nbformat": 4,
 "nbformat_minor": 2
}
